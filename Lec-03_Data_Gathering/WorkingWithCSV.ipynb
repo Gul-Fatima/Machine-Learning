{
  "nbformat": 4,
  "nbformat_minor": 0,
  "metadata": {
    "colab": {
      "provenance": []
    },
    "kernelspec": {
      "name": "python3",
      "display_name": "Python 3"
    },
    "language_info": {
      "name": "python"
    }
  },
  "cells": [
    {
      "cell_type": "markdown",
      "source": [
        "## Importing Pandas"
      ],
      "metadata": {
        "id": "mIXXWxS5dTmX"
      }
    },
    {
      "cell_type": "code",
      "execution_count": null,
      "metadata": {
        "id": "ffStUA_EdKxG"
      },
      "outputs": [],
      "source": [
        "import pandas as pd"
      ]
    },
    {
      "cell_type": "markdown",
      "source": [
        "## Opening a local file"
      ],
      "metadata": {
        "id": "hNgqH9Tadf9t"
      }
    },
    {
      "cell_type": "code",
      "source": [
        "df = pd.read_csv('/content/sample_data/california_housing_test.csv')"
      ],
      "metadata": {
        "id": "SCDPFgNldTA_"
      },
      "execution_count": null,
      "outputs": []
    },
    {
      "cell_type": "markdown",
      "source": [
        "## Opening a csv file from URL"
      ],
      "metadata": {
        "id": "SyYrimNsd4ny"
      }
    },
    {
      "cell_type": "code",
      "source": [
        "import requests\n",
        "from io import StringIO\n",
        "\n",
        "url = \"https://raw.githubusercontent.com/cs109/2014_data/master/countries.csv\" # paste here the URL link\n",
        "headers = {\"User-Agent\": \"Mozilla/5.0 (Macintosh; Intel Mac OS X 10.14; rv:66.0) Gecko/20100101 Firefox/66.0\"}\n",
        "req = requests.get(url, headers=headers)\n",
        "data = StringIO(req.text)\n",
        "\n",
        "pd.read_csv(data)"
      ],
      "metadata": {
        "colab": {
          "base_uri": "https://localhost:8080/",
          "height": 423
        },
        "id": "tVwRxIxBdu2Y",
        "outputId": "3e2b9750-8d21-4589-e47d-ced29c963612"
      },
      "execution_count": null,
      "outputs": [
        {
          "output_type": "execute_result",
          "data": {
            "text/plain": [
              "       Country         Region\n",
              "0      Algeria         AFRICA\n",
              "1       Angola         AFRICA\n",
              "2        Benin         AFRICA\n",
              "3     Botswana         AFRICA\n",
              "4      Burkina         AFRICA\n",
              "..         ...            ...\n",
              "189   Paraguay  SOUTH AMERICA\n",
              "190       Peru  SOUTH AMERICA\n",
              "191   Suriname  SOUTH AMERICA\n",
              "192    Uruguay  SOUTH AMERICA\n",
              "193  Venezuela  SOUTH AMERICA\n",
              "\n",
              "[194 rows x 2 columns]"
            ],
            "text/html": [
              "\n",
              "  <div id=\"df-3ddb42f1-625c-4ba2-b59a-454f2a45df8e\" class=\"colab-df-container\">\n",
              "    <div>\n",
              "<style scoped>\n",
              "    .dataframe tbody tr th:only-of-type {\n",
              "        vertical-align: middle;\n",
              "    }\n",
              "\n",
              "    .dataframe tbody tr th {\n",
              "        vertical-align: top;\n",
              "    }\n",
              "\n",
              "    .dataframe thead th {\n",
              "        text-align: right;\n",
              "    }\n",
              "</style>\n",
              "<table border=\"1\" class=\"dataframe\">\n",
              "  <thead>\n",
              "    <tr style=\"text-align: right;\">\n",
              "      <th></th>\n",
              "      <th>Country</th>\n",
              "      <th>Region</th>\n",
              "    </tr>\n",
              "  </thead>\n",
              "  <tbody>\n",
              "    <tr>\n",
              "      <th>0</th>\n",
              "      <td>Algeria</td>\n",
              "      <td>AFRICA</td>\n",
              "    </tr>\n",
              "    <tr>\n",
              "      <th>1</th>\n",
              "      <td>Angola</td>\n",
              "      <td>AFRICA</td>\n",
              "    </tr>\n",
              "    <tr>\n",
              "      <th>2</th>\n",
              "      <td>Benin</td>\n",
              "      <td>AFRICA</td>\n",
              "    </tr>\n",
              "    <tr>\n",
              "      <th>3</th>\n",
              "      <td>Botswana</td>\n",
              "      <td>AFRICA</td>\n",
              "    </tr>\n",
              "    <tr>\n",
              "      <th>4</th>\n",
              "      <td>Burkina</td>\n",
              "      <td>AFRICA</td>\n",
              "    </tr>\n",
              "    <tr>\n",
              "      <th>...</th>\n",
              "      <td>...</td>\n",
              "      <td>...</td>\n",
              "    </tr>\n",
              "    <tr>\n",
              "      <th>189</th>\n",
              "      <td>Paraguay</td>\n",
              "      <td>SOUTH AMERICA</td>\n",
              "    </tr>\n",
              "    <tr>\n",
              "      <th>190</th>\n",
              "      <td>Peru</td>\n",
              "      <td>SOUTH AMERICA</td>\n",
              "    </tr>\n",
              "    <tr>\n",
              "      <th>191</th>\n",
              "      <td>Suriname</td>\n",
              "      <td>SOUTH AMERICA</td>\n",
              "    </tr>\n",
              "    <tr>\n",
              "      <th>192</th>\n",
              "      <td>Uruguay</td>\n",
              "      <td>SOUTH AMERICA</td>\n",
              "    </tr>\n",
              "    <tr>\n",
              "      <th>193</th>\n",
              "      <td>Venezuela</td>\n",
              "      <td>SOUTH AMERICA</td>\n",
              "    </tr>\n",
              "  </tbody>\n",
              "</table>\n",
              "<p>194 rows × 2 columns</p>\n",
              "</div>\n",
              "    <div class=\"colab-df-buttons\">\n",
              "\n",
              "  <div class=\"colab-df-container\">\n",
              "    <button class=\"colab-df-convert\" onclick=\"convertToInteractive('df-3ddb42f1-625c-4ba2-b59a-454f2a45df8e')\"\n",
              "            title=\"Convert this dataframe to an interactive table.\"\n",
              "            style=\"display:none;\">\n",
              "\n",
              "  <svg xmlns=\"http://www.w3.org/2000/svg\" height=\"24px\" viewBox=\"0 -960 960 960\">\n",
              "    <path d=\"M120-120v-720h720v720H120Zm60-500h600v-160H180v160Zm220 220h160v-160H400v160Zm0 220h160v-160H400v160ZM180-400h160v-160H180v160Zm440 0h160v-160H620v160ZM180-180h160v-160H180v160Zm440 0h160v-160H620v160Z\"/>\n",
              "  </svg>\n",
              "    </button>\n",
              "\n",
              "  <style>\n",
              "    .colab-df-container {\n",
              "      display:flex;\n",
              "      gap: 12px;\n",
              "    }\n",
              "\n",
              "    .colab-df-convert {\n",
              "      background-color: #E8F0FE;\n",
              "      border: none;\n",
              "      border-radius: 50%;\n",
              "      cursor: pointer;\n",
              "      display: none;\n",
              "      fill: #1967D2;\n",
              "      height: 32px;\n",
              "      padding: 0 0 0 0;\n",
              "      width: 32px;\n",
              "    }\n",
              "\n",
              "    .colab-df-convert:hover {\n",
              "      background-color: #E2EBFA;\n",
              "      box-shadow: 0px 1px 2px rgba(60, 64, 67, 0.3), 0px 1px 3px 1px rgba(60, 64, 67, 0.15);\n",
              "      fill: #174EA6;\n",
              "    }\n",
              "\n",
              "    .colab-df-buttons div {\n",
              "      margin-bottom: 4px;\n",
              "    }\n",
              "\n",
              "    [theme=dark] .colab-df-convert {\n",
              "      background-color: #3B4455;\n",
              "      fill: #D2E3FC;\n",
              "    }\n",
              "\n",
              "    [theme=dark] .colab-df-convert:hover {\n",
              "      background-color: #434B5C;\n",
              "      box-shadow: 0px 1px 3px 1px rgba(0, 0, 0, 0.15);\n",
              "      filter: drop-shadow(0px 1px 2px rgba(0, 0, 0, 0.3));\n",
              "      fill: #FFFFFF;\n",
              "    }\n",
              "  </style>\n",
              "\n",
              "    <script>\n",
              "      const buttonEl =\n",
              "        document.querySelector('#df-3ddb42f1-625c-4ba2-b59a-454f2a45df8e button.colab-df-convert');\n",
              "      buttonEl.style.display =\n",
              "        google.colab.kernel.accessAllowed ? 'block' : 'none';\n",
              "\n",
              "      async function convertToInteractive(key) {\n",
              "        const element = document.querySelector('#df-3ddb42f1-625c-4ba2-b59a-454f2a45df8e');\n",
              "        const dataTable =\n",
              "          await google.colab.kernel.invokeFunction('convertToInteractive',\n",
              "                                                    [key], {});\n",
              "        if (!dataTable) return;\n",
              "\n",
              "        const docLinkHtml = 'Like what you see? Visit the ' +\n",
              "          '<a target=\"_blank\" href=https://colab.research.google.com/notebooks/data_table.ipynb>data table notebook</a>'\n",
              "          + ' to learn more about interactive tables.';\n",
              "        element.innerHTML = '';\n",
              "        dataTable['output_type'] = 'display_data';\n",
              "        await google.colab.output.renderOutput(dataTable, element);\n",
              "        const docLink = document.createElement('div');\n",
              "        docLink.innerHTML = docLinkHtml;\n",
              "        element.appendChild(docLink);\n",
              "      }\n",
              "    </script>\n",
              "  </div>\n",
              "\n",
              "\n",
              "<div id=\"df-91643c24-ab11-4e8a-9911-fd609b2ba9a1\">\n",
              "  <button class=\"colab-df-quickchart\" onclick=\"quickchart('df-91643c24-ab11-4e8a-9911-fd609b2ba9a1')\"\n",
              "            title=\"Suggest charts\"\n",
              "            style=\"display:none;\">\n",
              "\n",
              "<svg xmlns=\"http://www.w3.org/2000/svg\" height=\"24px\"viewBox=\"0 0 24 24\"\n",
              "     width=\"24px\">\n",
              "    <g>\n",
              "        <path d=\"M19 3H5c-1.1 0-2 .9-2 2v14c0 1.1.9 2 2 2h14c1.1 0 2-.9 2-2V5c0-1.1-.9-2-2-2zM9 17H7v-7h2v7zm4 0h-2V7h2v10zm4 0h-2v-4h2v4z\"/>\n",
              "    </g>\n",
              "</svg>\n",
              "  </button>\n",
              "\n",
              "<style>\n",
              "  .colab-df-quickchart {\n",
              "      --bg-color: #E8F0FE;\n",
              "      --fill-color: #1967D2;\n",
              "      --hover-bg-color: #E2EBFA;\n",
              "      --hover-fill-color: #174EA6;\n",
              "      --disabled-fill-color: #AAA;\n",
              "      --disabled-bg-color: #DDD;\n",
              "  }\n",
              "\n",
              "  [theme=dark] .colab-df-quickchart {\n",
              "      --bg-color: #3B4455;\n",
              "      --fill-color: #D2E3FC;\n",
              "      --hover-bg-color: #434B5C;\n",
              "      --hover-fill-color: #FFFFFF;\n",
              "      --disabled-bg-color: #3B4455;\n",
              "      --disabled-fill-color: #666;\n",
              "  }\n",
              "\n",
              "  .colab-df-quickchart {\n",
              "    background-color: var(--bg-color);\n",
              "    border: none;\n",
              "    border-radius: 50%;\n",
              "    cursor: pointer;\n",
              "    display: none;\n",
              "    fill: var(--fill-color);\n",
              "    height: 32px;\n",
              "    padding: 0;\n",
              "    width: 32px;\n",
              "  }\n",
              "\n",
              "  .colab-df-quickchart:hover {\n",
              "    background-color: var(--hover-bg-color);\n",
              "    box-shadow: 0 1px 2px rgba(60, 64, 67, 0.3), 0 1px 3px 1px rgba(60, 64, 67, 0.15);\n",
              "    fill: var(--button-hover-fill-color);\n",
              "  }\n",
              "\n",
              "  .colab-df-quickchart-complete:disabled,\n",
              "  .colab-df-quickchart-complete:disabled:hover {\n",
              "    background-color: var(--disabled-bg-color);\n",
              "    fill: var(--disabled-fill-color);\n",
              "    box-shadow: none;\n",
              "  }\n",
              "\n",
              "  .colab-df-spinner {\n",
              "    border: 2px solid var(--fill-color);\n",
              "    border-color: transparent;\n",
              "    border-bottom-color: var(--fill-color);\n",
              "    animation:\n",
              "      spin 1s steps(1) infinite;\n",
              "  }\n",
              "\n",
              "  @keyframes spin {\n",
              "    0% {\n",
              "      border-color: transparent;\n",
              "      border-bottom-color: var(--fill-color);\n",
              "      border-left-color: var(--fill-color);\n",
              "    }\n",
              "    20% {\n",
              "      border-color: transparent;\n",
              "      border-left-color: var(--fill-color);\n",
              "      border-top-color: var(--fill-color);\n",
              "    }\n",
              "    30% {\n",
              "      border-color: transparent;\n",
              "      border-left-color: var(--fill-color);\n",
              "      border-top-color: var(--fill-color);\n",
              "      border-right-color: var(--fill-color);\n",
              "    }\n",
              "    40% {\n",
              "      border-color: transparent;\n",
              "      border-right-color: var(--fill-color);\n",
              "      border-top-color: var(--fill-color);\n",
              "    }\n",
              "    60% {\n",
              "      border-color: transparent;\n",
              "      border-right-color: var(--fill-color);\n",
              "    }\n",
              "    80% {\n",
              "      border-color: transparent;\n",
              "      border-right-color: var(--fill-color);\n",
              "      border-bottom-color: var(--fill-color);\n",
              "    }\n",
              "    90% {\n",
              "      border-color: transparent;\n",
              "      border-bottom-color: var(--fill-color);\n",
              "    }\n",
              "  }\n",
              "</style>\n",
              "\n",
              "  <script>\n",
              "    async function quickchart(key) {\n",
              "      const quickchartButtonEl =\n",
              "        document.querySelector('#' + key + ' button');\n",
              "      quickchartButtonEl.disabled = true;  // To prevent multiple clicks.\n",
              "      quickchartButtonEl.classList.add('colab-df-spinner');\n",
              "      try {\n",
              "        const charts = await google.colab.kernel.invokeFunction(\n",
              "            'suggestCharts', [key], {});\n",
              "      } catch (error) {\n",
              "        console.error('Error during call to suggestCharts:', error);\n",
              "      }\n",
              "      quickchartButtonEl.classList.remove('colab-df-spinner');\n",
              "      quickchartButtonEl.classList.add('colab-df-quickchart-complete');\n",
              "    }\n",
              "    (() => {\n",
              "      let quickchartButtonEl =\n",
              "        document.querySelector('#df-91643c24-ab11-4e8a-9911-fd609b2ba9a1 button');\n",
              "      quickchartButtonEl.style.display =\n",
              "        google.colab.kernel.accessAllowed ? 'block' : 'none';\n",
              "    })();\n",
              "  </script>\n",
              "</div>\n",
              "\n",
              "    </div>\n",
              "  </div>\n"
            ],
            "application/vnd.google.colaboratory.intrinsic+json": {
              "type": "dataframe",
              "summary": "{\n  \"name\": \"pd\",\n  \"rows\": 194,\n  \"fields\": [\n    {\n      \"column\": \"Country\",\n      \"properties\": {\n        \"dtype\": \"string\",\n        \"num_unique_values\": 194,\n        \"samples\": [\n          \"Slovenia\",\n          \"Eritrea\",\n          \"Grenada\"\n        ],\n        \"semantic_type\": \"\",\n        \"description\": \"\"\n      }\n    },\n    {\n      \"column\": \"Region\",\n      \"properties\": {\n        \"dtype\": \"category\",\n        \"num_unique_values\": 6,\n        \"samples\": [\n          \"AFRICA\",\n          \"ASIA\",\n          \"SOUTH AMERICA\"\n        ],\n        \"semantic_type\": \"\",\n        \"description\": \"\"\n      }\n    }\n  ]\n}"
            }
          },
          "metadata": {},
          "execution_count": 7
        }
      ]
    },
    {
      "cell_type": "markdown",
      "source": [
        "## Some Parameter"
      ],
      "metadata": {
        "id": "p90xFwKkfG4n"
      }
    },
    {
      "cell_type": "markdown",
      "source": [
        "### **Sep parameter**"
      ],
      "metadata": {
        "id": "qgkWnFs3f92B"
      }
    },
    {
      "cell_type": "markdown",
      "source": [
        "* If we are having a tsv file than we have to use an added parameter: sep = '\\t'"
      ],
      "metadata": {
        "id": "c--V_46RfSyf"
      }
    },
    {
      "cell_type": "code",
      "source": [
        "pd.read_csv('movie_titles_metadata.tsv',sep='\\t',names=['sno','name','release_year','rating','votes','genres'])\n",
        "#Here in our data we did not have column names so it made r1 as column names so to give col name[pass a list] explicitly we can use names parameter."
      ],
      "metadata": {
        "id": "AChkmQOle01-"
      },
      "execution_count": null,
      "outputs": []
    },
    {
      "cell_type": "markdown",
      "source": [
        "### **Index-col parameter**"
      ],
      "metadata": {
        "id": "HC2s9G3CgFy7"
      }
    },
    {
      "cell_type": "markdown",
      "source": [
        "* Some times we get data in which any column (let id) is not of any use except we can use it as index of rows. So we can use this parameter and give that col_name as it's value."
      ],
      "metadata": {
        "id": "4bnQXnVygSgv"
      }
    },
    {
      "cell_type": "code",
      "source": [
        "pd.read_csv('aug_train.csv',index_col='enrollee_id')"
      ],
      "metadata": {
        "id": "iFoFYdZmgEa7"
      },
      "execution_count": null,
      "outputs": []
    },
    {
      "cell_type": "markdown",
      "source": [
        "### **Header Parameter**"
      ],
      "metadata": {
        "id": "GaKvqv2igr1n"
      }
    },
    {
      "cell_type": "markdown",
      "source": [
        "* Sometimes we get data such that the first row are the column names but it take it as a row so identify that these are coumn names not rows use  parameter header = 1"
      ],
      "metadata": {
        "id": "EwCFWCv_kL3n"
      }
    },
    {
      "cell_type": "code",
      "source": [
        "pd.read_csv('url',header = 1)"
      ],
      "metadata": {
        "id": "rGtYN0Rvhc97"
      },
      "execution_count": null,
      "outputs": []
    },
    {
      "cell_type": "markdown",
      "source": [
        "### **use-cols parameter**"
      ],
      "metadata": {
        "id": "1YbEjXzDk6sD"
      }
    },
    {
      "cell_type": "markdown",
      "source": [
        "* Sometimes we initially know the required columns (and the one that we don't require, in such case we use parameter use_cols = [list of col names]"
      ],
      "metadata": {
        "id": "S55O1HEzlFrt"
      }
    },
    {
      "cell_type": "markdown",
      "source": [
        "### **squeeze parameters**"
      ],
      "metadata": {
        "id": "kBZI2mOqlfaV"
      }
    },
    {
      "cell_type": "markdown",
      "source": [
        "* Sometimes we only require only one col, so we can use it it converts dataframe into pandas series"
      ],
      "metadata": {
        "id": "OafA5vfmllQp"
      }
    },
    {
      "cell_type": "code",
      "source": [
        "pd.read_csv('url', usecols = ['col_nmae'],squeeze = True)"
      ],
      "metadata": {
        "id": "58gCbS5nk_Jf"
      },
      "execution_count": null,
      "outputs": []
    },
    {
      "cell_type": "markdown",
      "source": [
        "### **Skiprows / nrows parameter:**\n",
        "* It skips the specified rows."
      ],
      "metadata": {
        "id": "obHGQE85l713"
      }
    },
    {
      "cell_type": "code",
      "source": [
        "pd.read_csv('url',skiprows = [1,2,3]) #will skip row 1,2,3"
      ],
      "metadata": {
        "id": "hGdxWkcKmAL0"
      },
      "execution_count": null,
      "outputs": []
    },
    {
      "cell_type": "markdown",
      "source": [
        "* We can write function as well to specify rows according to some logic i.e let we want rec with id that are multiples of 5."
      ],
      "metadata": {
        "id": "9uII-ZSomorz"
      }
    },
    {
      "cell_type": "markdown",
      "source": [
        "**Nrows:**\n",
        "* If I give nrows = 40, it will load data with starting 100 rows.\n"
      ],
      "metadata": {
        "id": "aTlir4hZnPnt"
      }
    },
    {
      "cell_type": "markdown",
      "source": [
        "### **Encoding parameter:**"
      ],
      "metadata": {
        "id": "VhajlOb_mYJV"
      }
    },
    {
      "cell_type": "markdown",
      "source": [
        "* Sometimes we get err : UniCodeDecode Error, there are two optins go to editor like sublime text and change that or find the encoding format of file and use parameter encoding = 'latin-1"
      ],
      "metadata": {
        "id": "v3WDeqyWO3Er"
      }
    },
    {
      "cell_type": "code",
      "source": [
        "pd.read_csv('url',encoding = 'latin-1')"
      ],
      "metadata": {
        "id": "L3QRIhk7O0tf"
      },
      "execution_count": null,
      "outputs": []
    },
    {
      "cell_type": "markdown",
      "source": [
        "### **Skip bad lines**"
      ],
      "metadata": {
        "id": "CRF_aMpwPgAf"
      }
    },
    {
      "cell_type": "markdown",
      "source": [
        "* Sometimes we get data like in some rows there are 5 cols some have 6 that are termed as ad lines.\n",
        "* We would get parser error"
      ],
      "metadata": {
        "id": "3zn3o63fPjsB"
      }
    },
    {
      "cell_type": "code",
      "source": [
        "pd.read_csv('books.csv', error_bad_lines = False) #skip the bad lines"
      ],
      "metadata": {
        "id": "xa9FbLuJPivC"
      },
      "execution_count": null,
      "outputs": []
    },
    {
      "cell_type": "markdown",
      "source": [
        "### **dtypes parameter**"
      ],
      "metadata": {
        "id": "38X7CDFKQE7U"
      }
    },
    {
      "cell_type": "markdown",
      "source": [
        "* When we run read function, by default at the back it analyzes the datatypes of cols as well, but we can overreide this behaviour if we want."
      ],
      "metadata": {
        "id": "Zwm2XRYWQKqB"
      }
    },
    {
      "cell_type": "code",
      "source": [
        "pd.read_csv('train.csv', dtype{'col_name' : int})"
      ],
      "metadata": {
        "id": "G9xr6zJQQH68"
      },
      "execution_count": null,
      "outputs": []
    },
    {
      "cell_type": "markdown",
      "source": [
        "### **Handling Date**\n",
        "\n",
        "* By default the column with dates are interpreted as string, so to convert it into date, time format"
      ],
      "metadata": {
        "id": "bTUXSUHiRG9-"
      }
    },
    {
      "cell_type": "code",
      "source": [
        "pd.read_csv('url',parse_dates = ['col_name'])"
      ],
      "metadata": {
        "id": "IZ-CUaYNRf5z"
      },
      "execution_count": null,
      "outputs": []
    },
    {
      "cell_type": "code",
      "source": [
        "m"
      ],
      "metadata": {
        "id": "ESn8rzxvSIla"
      },
      "execution_count": null,
      "outputs": []
    },
    {
      "cell_type": "markdown",
      "source": [
        "### **Convertors**\n",
        "* Sometimes we want some changes even before loading data e.g for dept column i want SE instead of software engineering."
      ],
      "metadata": {
        "id": "O9mhclTVRr6L"
      }
    },
    {
      "cell_type": "code",
      "source": [
        "def rename(val):\n",
        "  if val == 'software engineering':\n",
        "    return 'SE'\n",
        "  else:\n",
        "    return val\n",
        "pd.read_csv('url',converters = {'col_name' : rename})"
      ],
      "metadata": {
        "id": "RkwdHSctSKiL"
      },
      "execution_count": null,
      "outputs": []
    },
    {
      "cell_type": "markdown",
      "source": [
        "### **na_values parameter**"
      ],
      "metadata": {
        "id": "aRsXsHdYSYng"
      }
    },
    {
      "cell_type": "markdown",
      "source": [
        "* Sometimes instead of Nan we get - , which causes problem in data processing.\n",
        "* So we could define while loading dataset which kinda values we would consider nan"
      ],
      "metadata": {
        "id": "q8XlD4PDSjIj"
      }
    },
    {
      "cell_type": "code",
      "source": [
        "pd.read_csv('url',na_values= ['-', 'N/A']) #can add as many elemments you need"
      ],
      "metadata": {
        "id": "WsaoCjybScWX"
      },
      "execution_count": null,
      "outputs": []
    },
    {
      "cell_type": "markdown",
      "source": [
        "### **Loading a huge dataset in chunks**"
      ],
      "metadata": {
        "id": "4yHDUS-OTMLJ"
      }
    },
    {
      "cell_type": "code",
      "source": [
        "pd.read_csv('url',chunksize = 5000) # chnuksize = no of rows at a time"
      ],
      "metadata": {
        "id": "cn4qzYAhTTlM"
      },
      "execution_count": null,
      "outputs": []
    },
    {
      "cell_type": "code",
      "source": [
        "for chunks in dfs:\n",
        "  print(chunks.shape)# u can use loop as u want,  to do any other operation"
      ],
      "metadata": {
        "id": "fVxF-sO-TnZw"
      },
      "execution_count": null,
      "outputs": []
    }
  ]
}